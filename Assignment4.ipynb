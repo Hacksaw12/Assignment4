{
 "cells": [
  {
   "cell_type": "markdown",
   "id": "d420ec9f",
   "metadata": {},
   "source": [
    "# 1. What exactly is []?\n",
    "Ans:>They are called square brackets, and they basically represent list.\n"
   ]
  },
  {
   "cell_type": "code",
   "execution_count": 8,
   "id": "42b9fe33",
   "metadata": {},
   "outputs": [
    {
     "name": "stdout",
     "output_type": "stream",
     "text": [
      "[1, 2, 'hello', 4, 5, 6]\n"
     ]
    }
   ],
   "source": [
    "# 2. In a list of values stored in a variable called spam, how would you assign the value ‘hello’ as the third value? (Assume [2, 4, 6, 8, 10] are in spam.)\n",
    "#Ans:>\n",
    "spam=[1,2,3,4,5,6]\n",
    "spam[2]=\"hello\"\n",
    "print(spam)  \n"
   ]
  },
  {
   "cell_type": "markdown",
   "id": "da8707f1",
   "metadata": {},
   "source": [
    "# Let’s pretend the spam includes the list [‘a’, ‘b’, ‘c’, ‘d’] for the next three queries.\n",
    "\n",
    "3. What is the value of spam[int(int(‘3’ * 2) / 11)]?\n",
    "Ans:>  ’d’.\n",
    "\n",
    "4. What is the value of spam[-1]?\n",
    "Ans:> ‘d’ .\n",
    "\n",
    "5. What is the value of spam[:2]?\n",
    "Ans:> ['a', 'b'].\n",
    "\n"
   ]
  },
  {
   "cell_type": "markdown",
   "id": "a59d3839",
   "metadata": {},
   "source": [
    "# Let’s pretend bacon has the list [3.14, ‘cat,’ 11, ‘cat,’ True] for the next three questions.\n",
    "\n",
    "6. What is the value of bacon.index(‘cat’)?\n",
    "Ans:> 1 .\n",
    "\n",
    "7. How does bacon.append(99) change the look of the list value in bacon?\n",
    "Ans:> [3.14, 'cat', 11, 'cat', True, 99].\n",
    "\n",
    "8. How does bacon.remove(‘cat’) change the look of the list in bacon?\n",
    "Ans:> [3.14, 11, 'cat', True].\n",
    "\n",
    "8. How does bacon.remove(‘cat’) change the look of the list in bacon?\n",
    "Ans:> [3.14, 11, 'cat', True].\n",
    "\n",
    "\n"
   ]
  },
  {
   "cell_type": "markdown",
   "id": "70b4e5b5",
   "metadata": {},
   "source": [
    "# 9. What are the list concatenation and list replication operators?\n",
    "Ans:>  +  is for concatenation and  * is for replication.\n"
   ]
  },
  {
   "cell_type": "markdown",
   "id": "9c0eba3b",
   "metadata": {},
   "source": [
    "# 10. What is difference between the list methods append() and insert()?\n",
    "Ans:> The only difference between append() and insert() is that insert function allows us to add a specific element at a specified index of the list unlike append() where we can add the element only at end of the list.\n"
   ]
  },
  {
   "cell_type": "markdown",
   "id": "7a3e922e",
   "metadata": {},
   "source": [
    "# 11. What are the two methods for removing items from a list?\n",
    "Ans: The methods are remove(), pop() and clear(). It helps to remove the very first given element matching from the list. The pop() method removes an element from the list based on the index given. The clear() method will remove all the elements present in the list.\n"
   ]
  },
  {
   "cell_type": "markdown",
   "id": "486c4ce3",
   "metadata": {},
   "source": [
    "# 12. Describe how list values and string values are identical.\n",
    "Ans:> The values that make up a list are called its elements. ... Lists are similar to strings, which are ordered collections of characters, except that the elements of a list can have any type and for any one list, the items can be of different types.\n"
   ]
  },
  {
   "cell_type": "markdown",
   "id": "803fb24d",
   "metadata": {},
   "source": [
    "# 13. What’s the difference between tuples and lists?\n",
    "Ans:>The key difference between the tuples and lists is that while the tuples are immutable objects the lists are mutable. This means that tuples cannot be changed while the lists can be modified. Tuples are more memory efficient than the lists. Tuples are represented by() and the lists are represented by [].\n"
   ]
  },
  {
   "cell_type": "markdown",
   "id": "2af20bf2",
   "metadata": {},
   "source": [
    "# 14. How do you type a tuple value that only contains the integer 42?\n",
    "Ans: Tuple=(42).\n"
   ]
  },
  {
   "cell_type": "markdown",
   "id": "29d48e86",
   "metadata": {},
   "source": [
    "# 15. How do you get a list value’s tuple form? How do you get a tuple value’s list form?\n",
    "Ans:> list(tuple) , tuple(list).\n"
   ]
  },
  {
   "cell_type": "markdown",
   "id": "c05ac525",
   "metadata": {},
   "source": [
    "# 16. Variables that “contain” list values are not necessarily lists themselves. Instead, what do they\n",
    "contain?\n",
    "Ans:> Variables will contain references to list values rather than list values themselves. But for strings and integer values, variables simply contain the string or integer value.\n"
   ]
  },
  {
   "cell_type": "markdown",
   "id": "b7fc2255",
   "metadata": {},
   "source": [
    "# 17. How do you distinguish between copy.copy() and copy.deepcopy()?\n",
    "Ans:> A shallow copy constructs a new compound object and then (to the extent possible) inserts references into it to the objects found in the original.\n",
    "•\tA deep copy constructs a new compound object and then, recursively, inserts copies into it of the objects found in the original.\n"
   ]
  },
  {
   "cell_type": "code",
   "execution_count": null,
   "id": "650ca8fc",
   "metadata": {},
   "outputs": [],
   "source": []
  },
  {
   "cell_type": "code",
   "execution_count": null,
   "id": "79e8649f",
   "metadata": {},
   "outputs": [],
   "source": []
  }
 ],
 "metadata": {
  "kernelspec": {
   "display_name": "Python 3",
   "language": "python",
   "name": "python3"
  },
  "language_info": {
   "codemirror_mode": {
    "name": "ipython",
    "version": 3
   },
   "file_extension": ".py",
   "mimetype": "text/x-python",
   "name": "python",
   "nbconvert_exporter": "python",
   "pygments_lexer": "ipython3",
   "version": "3.8.8"
  }
 },
 "nbformat": 4,
 "nbformat_minor": 5
}
